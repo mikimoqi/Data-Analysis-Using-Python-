{
 "cells": [
  {
   "cell_type": "code",
   "execution_count": 64,
   "metadata": {},
   "outputs": [
    {
     "name": "stdout",
     "output_type": "stream",
     "text": [
      "      age     sex     bmi  children     region      charges\n",
      "3      33    male  22.705         0  northwest  21984.47061\n",
      "5      31  female  25.740         0  southeast   3756.62160\n",
      "7      37  female  27.740         3  northwest   7281.50560\n",
      "10     25    male  26.220         0  northeast   2721.32080\n",
      "15     19    male  24.600         1  southwest   1837.23700\n",
      "...   ...     ...     ...       ...        ...          ...\n",
      "1316   19  female  20.600         0  southwest   1731.67700\n",
      "1319   39  female  26.315         2  northwest   7201.70085\n",
      "1324   31    male  25.935         1  northwest   4239.89265\n",
      "1328   23  female  24.225         2  northeast  22395.74424\n",
      "1336   21  female  25.800         0  southwest   2007.94500\n",
      "\n",
      "[194 rows x 6 columns]\n"
     ]
    }
   ],
   "source": [
    "import pandas as pd\n",
    "import numpy as np\n",
    "import project_functions as pf\n",
    "\n",
    "print(load_df_remove_smokers_highlowBMI_highAge('C:/Users/Home Computer/Desktop/temp/insurance.csv'))"
   ]
  },
  {
   "cell_type": "code",
   "execution_count": null,
   "metadata": {},
   "outputs": [],
   "source": []
  }
 ],
 "metadata": {
  "kernelspec": {
   "display_name": "Python 3",
   "language": "python",
   "name": "python3"
  },
  "language_info": {
   "codemirror_mode": {
    "name": "ipython",
    "version": 3
   },
   "file_extension": ".py",
   "mimetype": "text/x-python",
   "name": "python",
   "nbconvert_exporter": "python",
   "pygments_lexer": "ipython3",
   "version": "3.8.3"
  }
 },
 "nbformat": 4,
 "nbformat_minor": 4
}
