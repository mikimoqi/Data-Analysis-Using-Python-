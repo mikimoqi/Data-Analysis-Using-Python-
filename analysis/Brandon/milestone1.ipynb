{
 "cells": [
  {
   "cell_type": "code",
   "execution_count": 3,
   "metadata": {},
   "outputs": [
    {
     "name": "stdout",
     "output_type": "stream",
     "text": [
      "      UserName  ScreenName             Location     TweetAt  \\\n",
      "0            1       44953                  NYC  02-03-2020   \n",
      "1            2       44954          Seattle, WA  02-03-2020   \n",
      "2            3       44955                  NaN  02-03-2020   \n",
      "3            4       44956          Chicagoland  02-03-2020   \n",
      "4            5       44957  Melbourne, Victoria  03-03-2020   \n",
      "...        ...         ...                  ...         ...   \n",
      "3793      3794       48746            Israel ??  16-03-2020   \n",
      "3794      3795       48747       Farmington, NM  16-03-2020   \n",
      "3795      3796       48748        Haverford, PA  16-03-2020   \n",
      "3796      3797       48749                  NaN  16-03-2020   \n",
      "3797      3798       48750  Arlington, Virginia  16-03-2020   \n",
      "\n",
      "                                          OriginalTweet           Sentiment  \n",
      "0     TRENDING: New Yorkers encounter empty supermar...  Extremely Negative  \n",
      "1     When I couldn't find hand sanitizer at Fred Me...            Positive  \n",
      "2     Find out how you can protect yourself and love...  Extremely Positive  \n",
      "3     #Panic buying hits #NewYork City as anxious sh...            Negative  \n",
      "4     #toiletpaper #dunnypaper #coronavirus #coronav...             Neutral  \n",
      "...                                                 ...                 ...  \n",
      "3793  Meanwhile In A Supermarket in Israel -- People...            Positive  \n",
      "3794  Did you panic buy a lot of non-perishable item...            Negative  \n",
      "3795  Asst Prof of Economics @cconces was on @NBCPhi...             Neutral  \n",
      "3796  Gov need to do somethings instead of biar je r...  Extremely Negative  \n",
      "3797  I and @ForestandPaper members are committed to...  Extremely Positive  \n",
      "\n",
      "[3798 rows x 6 columns]\n"
     ]
    }
   ],
   "source": [
    "import pandas as pd\n",
    "\n",
    "df = pd.read_csv('C:/Users/Brandon/Desktop/temp/Corona_NLP_test.csv')\n",
    "print(df)"
   ]
  },
  {
   "cell_type": "code",
   "execution_count": null,
   "metadata": {},
   "outputs": [],
   "source": []
  },
  {
   "cell_type": "code",
   "execution_count": null,
   "metadata": {},
   "outputs": [],
   "source": []
  }
 ],
 "metadata": {
  "kernelspec": {
   "display_name": "Python 3",
   "language": "python",
   "name": "python3"
  },
  "language_info": {
   "codemirror_mode": {
    "name": "ipython",
    "version": 3
   },
   "file_extension": ".py",
   "mimetype": "text/x-python",
   "name": "python",
   "nbconvert_exporter": "python",
   "pygments_lexer": "ipython3",
   "version": "3.8.3"
  }
 },
 "nbformat": 4,
 "nbformat_minor": 4
}
