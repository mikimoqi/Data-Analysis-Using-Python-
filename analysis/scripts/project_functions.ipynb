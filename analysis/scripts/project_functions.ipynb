{
 "cells": [
  {
   "cell_type": "code",
   "execution_count": 4,
   "metadata": {},
   "outputs": [],
   "source": [
    "import pandas as pd\n",
    "import numpy as np\n",
    "\n",
    "def load_df_remove_smokers_highlowBMI_highAge(path):\n",
    "        \n",
    "    # this function is just to remove at-risk populations from a set of data to showcase method chaining. This may not have any application to the actual project.\n",
    "    df1 = (\n",
    "            \n",
    "         #read data to df, drop NULLs.\n",
    "         pd.read_csv(path)\n",
    "        .dropna()\n",
    "        \n",
    "    )\n",
    "        \n",
    "    df2 = (\n",
    "            \n",
    "        #remove low bmi, high bmi, smokers, high age --> risk groups. Remove smoker column because all are NO.\n",
    "        df1\n",
    "        .loc[lambda x: x['bmi'] > 18]\n",
    "        .loc[lambda x: x['bmi'] < 28]\n",
    "        .loc[lambda x: x['smoker'] == 'no']\n",
    "        .loc[lambda x: x['age'] < 40]\n",
    "        .drop('smoker', 1)\n",
    "\n",
    "    )\n",
    "        \n",
    "    return df2"
   ]
  },
  {
   "cell_type": "code",
   "execution_count": null,
   "metadata": {},
   "outputs": [],
   "source": []
  }
 ],
 "metadata": {
  "kernelspec": {
   "display_name": "Python 3",
   "language": "python",
   "name": "python3"
  },
  "language_info": {
   "codemirror_mode": {
    "name": "ipython",
    "version": 3
   },
   "file_extension": ".py",
   "mimetype": "text/x-python",
   "name": "python",
   "nbconvert_exporter": "python",
   "pygments_lexer": "ipython3",
   "version": "3.8.3"
  }
 },
 "nbformat": 4,
 "nbformat_minor": 4
}
